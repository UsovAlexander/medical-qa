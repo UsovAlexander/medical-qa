{
 "cells": [
  {
   "cell_type": "code",
   "execution_count": 1,
   "id": "1b37cd80-ed0d-402e-9564-997f39e25492",
   "metadata": {},
   "outputs": [],
   "source": [
    "import os\n",
    "import warnings\n",
    "import random\n",
    "\n",
    "import pandas as pd\n",
    "import numpy as np\n",
    "import matplotlib.pyplot as plt\n",
    "import torch\n",
    "from transformers import AutoModel, AutoTokenizer, TextClassificationPipeline\n",
    "from sklearn.neighbors import KNeighborsClassifier\n",
    "from tqdm import tqdm\n",
    "from scipy.spatial.distance import cosine\n",
    "\n",
    "warnings.filterwarnings('ignore')\n",
    "\n",
    "# Set the TOKENIZERS_PARALLELISM environment variable\n",
    "os.environ[\"TOKENIZERS_PARALLELISM\"] = \"false\"\n",
    "\n",
    "RANDOM_STATE = 42"
   ]
  },
  {
   "cell_type": "code",
   "execution_count": 2,
   "id": "454c53d2-f77c-4ea8-9f10-9f1fc29d1a10",
   "metadata": {},
   "outputs": [],
   "source": [
    "df = pd.read_csv('data.csv', index_col=0)"
   ]
  },
  {
   "cell_type": "code",
   "execution_count": 3,
   "id": "ca7b2e7d-bc96-4a38-a6a2-4ec5d1291331",
   "metadata": {},
   "outputs": [
    {
     "data": {
      "text/html": [
       "<div>\n",
       "<style scoped>\n",
       "    .dataframe tbody tr th:only-of-type {\n",
       "        vertical-align: middle;\n",
       "    }\n",
       "\n",
       "    .dataframe tbody tr th {\n",
       "        vertical-align: top;\n",
       "    }\n",
       "\n",
       "    .dataframe thead th {\n",
       "        text-align: right;\n",
       "    }\n",
       "</style>\n",
       "<table border=\"1\" class=\"dataframe\">\n",
       "  <thead>\n",
       "    <tr style=\"text-align: right;\">\n",
       "      <th></th>\n",
       "      <th>dr_id</th>\n",
       "      <th>question_1</th>\n",
       "      <th>question_2</th>\n",
       "      <th>label</th>\n",
       "    </tr>\n",
       "  </thead>\n",
       "  <tbody>\n",
       "    <tr>\n",
       "      <th>0</th>\n",
       "      <td>1</td>\n",
       "      <td>After how many hour from drinking an antibioti...</td>\n",
       "      <td>I have a party tonight and I took my last dose...</td>\n",
       "      <td>1</td>\n",
       "    </tr>\n",
       "    <tr>\n",
       "      <th>1</th>\n",
       "      <td>1</td>\n",
       "      <td>After how many hour from drinking an antibioti...</td>\n",
       "      <td>I vomited this morning and I am not sure if it...</td>\n",
       "      <td>0</td>\n",
       "    </tr>\n",
       "    <tr>\n",
       "      <th>2</th>\n",
       "      <td>1</td>\n",
       "      <td>Am I over weight (192.9) for my age (39)?</td>\n",
       "      <td>I am a 39 y/o male currently weighing about 19...</td>\n",
       "      <td>1</td>\n",
       "    </tr>\n",
       "    <tr>\n",
       "      <th>3</th>\n",
       "      <td>1</td>\n",
       "      <td>Am I over weight (192.9) for my age (39)?</td>\n",
       "      <td>What diet is good for losing weight? Keto or v...</td>\n",
       "      <td>0</td>\n",
       "    </tr>\n",
       "    <tr>\n",
       "      <th>4</th>\n",
       "      <td>1</td>\n",
       "      <td>Aspirin allergy - is it worth getting a bracelet?</td>\n",
       "      <td>How much Aspirin can I take for my headache wi...</td>\n",
       "      <td>0</td>\n",
       "    </tr>\n",
       "    <tr>\n",
       "      <th>...</th>\n",
       "      <td>...</td>\n",
       "      <td>...</td>\n",
       "      <td>...</td>\n",
       "      <td>...</td>\n",
       "    </tr>\n",
       "    <tr>\n",
       "      <th>3043</th>\n",
       "      <td>11</td>\n",
       "      <td>15 million  sperm can be a father?</td>\n",
       "      <td>My sperm count is 15 millions and is there a c...</td>\n",
       "      <td>1</td>\n",
       "    </tr>\n",
       "    <tr>\n",
       "      <th>3044</th>\n",
       "      <td>11</td>\n",
       "      <td>26 yo m with history of progressive venous ins...</td>\n",
       "      <td>Hello doctor, can you please tell me some of t...</td>\n",
       "      <td>0</td>\n",
       "    </tr>\n",
       "    <tr>\n",
       "      <th>3045</th>\n",
       "      <td>11</td>\n",
       "      <td>26 yo m with history of progressive venous ins...</td>\n",
       "      <td>Hello doctor, I am 26 year old male wth progre...</td>\n",
       "      <td>1</td>\n",
       "    </tr>\n",
       "    <tr>\n",
       "      <th>3046</th>\n",
       "      <td>11</td>\n",
       "      <td>32 weeks pregnant. Headache strange leg weakne...</td>\n",
       "      <td>I am 32 weeks pregnant and had severe headache...</td>\n",
       "      <td>0</td>\n",
       "    </tr>\n",
       "    <tr>\n",
       "      <th>3047</th>\n",
       "      <td>11</td>\n",
       "      <td>32 weeks pregnant. Headache strange leg weakne...</td>\n",
       "      <td>I have headache, leg weakness and 32 weeks pre...</td>\n",
       "      <td>1</td>\n",
       "    </tr>\n",
       "  </tbody>\n",
       "</table>\n",
       "<p>3048 rows × 4 columns</p>\n",
       "</div>"
      ],
      "text/plain": [
       "      dr_id                                         question_1  \\\n",
       "0         1  After how many hour from drinking an antibioti...   \n",
       "1         1  After how many hour from drinking an antibioti...   \n",
       "2         1          Am I over weight (192.9) for my age (39)?   \n",
       "3         1          Am I over weight (192.9) for my age (39)?   \n",
       "4         1  Aspirin allergy - is it worth getting a bracelet?   \n",
       "...     ...                                                ...   \n",
       "3043     11                 15 million  sperm can be a father?   \n",
       "3044     11  26 yo m with history of progressive venous ins...   \n",
       "3045     11  26 yo m with history of progressive venous ins...   \n",
       "3046     11  32 weeks pregnant. Headache strange leg weakne...   \n",
       "3047     11  32 weeks pregnant. Headache strange leg weakne...   \n",
       "\n",
       "                                             question_2  label  \n",
       "0     I have a party tonight and I took my last dose...      1  \n",
       "1     I vomited this morning and I am not sure if it...      0  \n",
       "2     I am a 39 y/o male currently weighing about 19...      1  \n",
       "3     What diet is good for losing weight? Keto or v...      0  \n",
       "4     How much Aspirin can I take for my headache wi...      0  \n",
       "...                                                 ...    ...  \n",
       "3043  My sperm count is 15 millions and is there a c...      1  \n",
       "3044  Hello doctor, can you please tell me some of t...      0  \n",
       "3045  Hello doctor, I am 26 year old male wth progre...      1  \n",
       "3046  I am 32 weeks pregnant and had severe headache...      0  \n",
       "3047  I have headache, leg weakness and 32 weeks pre...      1  \n",
       "\n",
       "[3048 rows x 4 columns]"
      ]
     },
     "execution_count": 3,
     "metadata": {},
     "output_type": "execute_result"
    }
   ],
   "source": [
    "df"
   ]
  },
  {
   "cell_type": "code",
   "execution_count": 4,
   "id": "8b6650c7-4f3f-483a-ba72-2df7b09b3e4a",
   "metadata": {},
   "outputs": [],
   "source": [
    "df_q = pd.concat([df['question_1'], df['question_2']], axis=0)"
   ]
  },
  {
   "cell_type": "code",
   "execution_count": 5,
   "id": "abbb5d7b-19da-457c-9205-491a790482f1",
   "metadata": {},
   "outputs": [],
   "source": [
    "df_q = df_q.reset_index(drop=True)"
   ]
  },
  {
   "cell_type": "code",
   "execution_count": 6,
   "id": "d5e5176a-b6c0-4d12-81d0-e3f72cbc2a3d",
   "metadata": {},
   "outputs": [],
   "source": [
    "df_q = df_q.drop_duplicates().reset_index(drop=True)"
   ]
  },
  {
   "cell_type": "code",
   "execution_count": 7,
   "id": "611b5655-c20c-47c2-8d47-620d776d50fe",
   "metadata": {},
   "outputs": [],
   "source": [
    "df_q = pd.DataFrame(df_q, columns=['text'])"
   ]
  },
  {
   "cell_type": "code",
   "execution_count": 8,
   "id": "5b4716be-2f12-4300-82e1-8db424b012de",
   "metadata": {},
   "outputs": [
    {
     "data": {
      "application/vnd.jupyter.widget-view+json": {
       "model_id": "c583e34144944d6eb7326b1d6fa8c158",
       "version_major": 2,
       "version_minor": 0
      },
      "text/plain": [
       "Downloading tokenizer_config.json:   0%|          | 0.00/1.28k [00:00<?, ?B/s]"
      ]
     },
     "metadata": {},
     "output_type": "display_data"
    },
    {
     "data": {
      "application/vnd.jupyter.widget-view+json": {
       "model_id": "ddb3bd30022c43ecb41344294b876865",
       "version_major": 2,
       "version_minor": 0
      },
      "text/plain": [
       "Downloading spm.model:   0%|          | 0.00/2.46M [00:00<?, ?B/s]"
      ]
     },
     "metadata": {},
     "output_type": "display_data"
    },
    {
     "data": {
      "application/vnd.jupyter.widget-view+json": {
       "model_id": "471a5941caf044ddbc1038c531853547",
       "version_major": 2,
       "version_minor": 0
      },
      "text/plain": [
       "Downloading tokenizer.json:   0%|          | 0.00/8.66M [00:00<?, ?B/s]"
      ]
     },
     "metadata": {},
     "output_type": "display_data"
    },
    {
     "data": {
      "application/vnd.jupyter.widget-view+json": {
       "model_id": "a7a240cb196b4d49874fe87bc293cf47",
       "version_major": 2,
       "version_minor": 0
      },
      "text/plain": [
       "Downloading added_tokens.json:   0%|          | 0.00/23.0 [00:00<?, ?B/s]"
      ]
     },
     "metadata": {},
     "output_type": "display_data"
    },
    {
     "data": {
      "application/vnd.jupyter.widget-view+json": {
       "model_id": "ac42be93f7e04b53946bc764e1bba7f3",
       "version_major": 2,
       "version_minor": 0
      },
      "text/plain": [
       "Downloading (…)cial_tokens_map.json:   0%|          | 0.00/286 [00:00<?, ?B/s]"
      ]
     },
     "metadata": {},
     "output_type": "display_data"
    },
    {
     "data": {
      "application/vnd.jupyter.widget-view+json": {
       "model_id": "9b09c630abf6400da8982767f8aa8e21",
       "version_major": 2,
       "version_minor": 0
      },
      "text/plain": [
       "Downloading config.json:   0%|          | 0.00/18.8k [00:00<?, ?B/s]"
      ]
     },
     "metadata": {},
     "output_type": "display_data"
    },
    {
     "data": {
      "application/vnd.jupyter.widget-view+json": {
       "model_id": "42195d8be95a4115b4063bb9b1229306",
       "version_major": 2,
       "version_minor": 0
      },
      "text/plain": [
       "Downloading pytorch_model.bin:   0%|          | 0.00/1.74G [00:00<?, ?B/s]"
      ]
     },
     "metadata": {},
     "output_type": "display_data"
    },
    {
     "name": "stderr",
     "output_type": "stream",
     "text": [
      "Some weights of the model checkpoint at sileod/deberta-v3-large-tasksource-nli were not used when initializing DebertaV2Model: ['classifier.weight', 'classifier.bias', 'pooler.dense.bias', 'pooler.dense.weight']\n",
      "- This IS expected if you are initializing DebertaV2Model from the checkpoint of a model trained on another task or with another architecture (e.g. initializing a BertForSequenceClassification model from a BertForPreTraining model).\n",
      "- This IS NOT expected if you are initializing DebertaV2Model from the checkpoint of a model that you expect to be exactly identical (initializing a BertForSequenceClassification model from a BertForSequenceClassification model).\n"
     ]
    }
   ],
   "source": [
    "tokenizer = AutoTokenizer.from_pretrained('sileod/deberta-v3-large-tasksource-nli')\n",
    "model = AutoModel.from_pretrained('sileod/deberta-v3-large-tasksource-nli')"
   ]
  },
  {
   "cell_type": "code",
   "execution_count": 9,
   "id": "deac4b00-4992-4c49-830f-ae58dba1a3e4",
   "metadata": {},
   "outputs": [
    {
     "name": "stderr",
     "output_type": "stream",
     "text": [
      "  0%|                                                                                                                                                                                                                                                  | 0/4567 [00:00<?, ?it/s]Asking to truncate to max_length but no maximum length is provided and the model has no predefined maximum length. Default to no truncation.\n",
      "100%|████████████████████████████████████████████████████████████████████████████████████████████████████████████████████████████████████████████████████████████████████████████████████████████████████████████████████████████████████| 4567/4567 [00:00<00:00, 17325.16it/s]"
     ]
    },
    {
     "name": "stdout",
     "output_type": "stream",
     "text": [
      "CPU times: user 254 ms, sys: 14.8 ms, total: 269 ms\n",
      "Wall time: 268 ms\n"
     ]
    },
    {
     "name": "stderr",
     "output_type": "stream",
     "text": [
      "\n"
     ]
    }
   ],
   "source": [
    "%%time\n",
    "tqdm.pandas()\n",
    "tokenized = df_q['text'].progress_apply((lambda x: tokenizer.encode(x, add_special_tokens=True,\n",
    "                                                                  truncation=True)))"
   ]
  },
  {
   "cell_type": "code",
   "execution_count": 10,
   "id": "1026c05b-cc97-40c0-a2a8-39a4ac1efa67",
   "metadata": {},
   "outputs": [
    {
     "data": {
      "text/plain": [
       "0       [1, 643, 361, 386, 1476, 292, 3730, 299, 16072...\n",
       "1       [1, 4645, 273, 360, 1272, 287, 29569, 260, 108...\n",
       "2       [1, 87217, 14024, 341, 269, 278, 1231, 646, 26...\n",
       "3       [1, 620, 266, 2278, 280, 268, 836, 261, 273, 1...\n",
       "4       [1, 14200, 277, 11739, 453, 456, 39497, 268, 5...\n",
       "                              ...                        \n",
       "4562    [1, 573, 16973, 2795, 269, 706, 3543, 263, 269...\n",
       "4563    [1, 5365, 2278, 261, 295, 274, 811, 848, 351, ...\n",
       "4564    [1, 5365, 2278, 261, 273, 481, 1760, 395, 597,...\n",
       "4565    [1, 273, 481, 2686, 1033, 4870, 263, 330, 3567...\n",
       "4566    [1, 273, 286, 11141, 261, 3540, 8960, 263, 268...\n",
       "Name: text, Length: 4567, dtype: object"
      ]
     },
     "execution_count": 10,
     "metadata": {},
     "output_type": "execute_result"
    }
   ],
   "source": [
    "tokenized"
   ]
  },
  {
   "cell_type": "code",
   "execution_count": 11,
   "id": "476a079e-e6ff-4f95-8ab8-9692707275dd",
   "metadata": {},
   "outputs": [],
   "source": [
    "max_len = 0\n",
    "for i in tokenized.values:\n",
    "    if len(i) > max_len:\n",
    "        max_len = len(i)\n",
    "\n",
    "padded = np.array([i + [0]*(max_len-len(i)) for i in tokenized.values])"
   ]
  },
  {
   "cell_type": "code",
   "execution_count": 12,
   "id": "c3494720-9d25-42fb-9d90-8788e3bcaf0f",
   "metadata": {},
   "outputs": [
    {
     "data": {
      "text/plain": [
       "(array([[    1,   643,   361, ...,     0,     0,     0],\n",
       "        [    1,  4645,   273, ...,     0,     0,     0],\n",
       "        [    1, 87217, 14024, ...,     0,     0,     0],\n",
       "        ...,\n",
       "        [    1,  5365,  2278, ...,     0,     0,     0],\n",
       "        [    1,   273,   481, ...,     0,     0,     0],\n",
       "        [    1,   273,   286, ...,     0,     0,     0]]),\n",
       " (4567, 116))"
      ]
     },
     "execution_count": 12,
     "metadata": {},
     "output_type": "execute_result"
    }
   ],
   "source": [
    "padded, padded.shape"
   ]
  },
  {
   "cell_type": "code",
   "execution_count": 13,
   "id": "4d073fd2-b53f-4f2c-80d8-6824c552e7b7",
   "metadata": {},
   "outputs": [
    {
     "data": {
      "text/plain": [
       "(4567, 116)"
      ]
     },
     "execution_count": 13,
     "metadata": {},
     "output_type": "execute_result"
    }
   ],
   "source": [
    "attention_mask = np.where(padded != 0, 1, 0)\n",
    "attention_mask.shape"
   ]
  },
  {
   "cell_type": "code",
   "execution_count": 14,
   "id": "d61827f8-2a68-44d2-bf97-03563858346a",
   "metadata": {},
   "outputs": [
    {
     "data": {
      "text/plain": [
       "True"
      ]
     },
     "execution_count": 14,
     "metadata": {},
     "output_type": "execute_result"
    }
   ],
   "source": [
    "torch.backends.mps.is_available()"
   ]
  },
  {
   "cell_type": "code",
   "execution_count": 15,
   "id": "3545b4a8-35f9-4d7c-b60a-49f5a049301e",
   "metadata": {},
   "outputs": [
    {
     "data": {
      "text/plain": [
       "True"
      ]
     },
     "execution_count": 15,
     "metadata": {},
     "output_type": "execute_result"
    }
   ],
   "source": [
    "torch.backends.mps.is_built()"
   ]
  },
  {
   "cell_type": "code",
   "execution_count": 16,
   "id": "6c8e7eaa-3e3b-4f6c-a5cf-0774c714d5b7",
   "metadata": {},
   "outputs": [],
   "source": [
    "device = torch.device(\"mps\")"
   ]
  },
  {
   "cell_type": "code",
   "execution_count": 17,
   "id": "fc8dd622-7238-4a8e-9e93-79eae5982924",
   "metadata": {},
   "outputs": [
    {
     "name": "stderr",
     "output_type": "stream",
     "text": [
      "  0%|                                                                                                                                                                                                                                                    | 0/46 [00:00<?, ?it/s]loc(\"cast\"(\"(mpsFileLoc): /AppleInternal/Library/BuildRoots/75428952-3aa4-11ee-8b65-46d450270006/Library/Caches/com.apple.xbs/Sources/MetalPerformanceShadersGraph/mpsgraph/MetalPerformanceShadersGraph/Core/Files/MPSGraphUtilities.mm\":745:0)): error: 'anec.gain_offset_control' op result #0 must be 4D/5D memref of 16-bit float or 8-bit signed integer or 8-bit unsigned integer values, but got 'memref<100x1x116x116xi1>'\n",
      " 98%|█████████████████████████████████████████████████████████████████████████████████████████████████████████████████████████████████████████████████████████████████████████████████████████████████████████████████████████████████████▉     | 45/46 [07:24<00:09,  9.81s/it]loc(\"cast\"(\"(mpsFileLoc): /AppleInternal/Library/BuildRoots/75428952-3aa4-11ee-8b65-46d450270006/Library/Caches/com.apple.xbs/Sources/MetalPerformanceShadersGraph/mpsgraph/MetalPerformanceShadersGraph/Core/Files/MPSGraphUtilities.mm\":745:0)): error: 'anec.gain_offset_control' op result #0 must be 4D/5D memref of 16-bit float or 8-bit signed integer or 8-bit unsigned integer values, but got 'memref<67x1x116x116xi1>'\n",
      "100%|███████████████████████████████████████████████████████████████████████████████████████████████████████████████████████████████████████████████████████████████████████████████████████████████████████████████████████████████████████████| 46/46 [07:31<00:00,  9.82s/it]\n"
     ]
    }
   ],
   "source": [
    "batch_size = 100\n",
    "embeddings = []\n",
    "for i in tqdm(range(padded.shape[0] // batch_size + 1)):\n",
    "        batch = torch.LongTensor(padded[batch_size*i:batch_size*(i+1)]).to(device)\n",
    "        attention_mask_batch = torch.LongTensor(attention_mask[batch_size*i:batch_size*(i+1)]).to(device)\n",
    "        \n",
    "        with torch.no_grad():\n",
    "            model.to(device)\n",
    "            batch_embeddings = model(batch, \n",
    "                                     attention_mask=attention_mask_batch\n",
    "                                    )\n",
    "        \n",
    "        embeddings.append(batch_embeddings[0][:,0,:].cpu().numpy())\n",
    "        del batch\n",
    "        del attention_mask_batch\n",
    "        del batch_embeddings"
   ]
  },
  {
   "cell_type": "code",
   "execution_count": 18,
   "id": "4840778e-38bb-435f-9f1a-77205fbcce4e",
   "metadata": {},
   "outputs": [],
   "source": [
    "features = np.concatenate(embeddings)"
   ]
  },
  {
   "cell_type": "code",
   "execution_count": 19,
   "id": "8ebeb5cd-9726-4fde-a176-d6af1ebc7349",
   "metadata": {},
   "outputs": [],
   "source": [
    "df_enc = pd.DataFrame(features, index=df_q.index)"
   ]
  },
  {
   "cell_type": "code",
   "execution_count": 20,
   "id": "a706d437-3748-4ac2-a753-7765820c7402",
   "metadata": {
    "scrolled": true
   },
   "outputs": [],
   "source": [
    "def recommendation_score(n: int) -> float:\n",
    "    c = 0\n",
    "    for i in tqdm(range(n)):\n",
    "        # вытаксиваем случайное предложение, у которого точно есть пара для проверки\n",
    "        rand_index = random.choice(df[df['label'] == 1].index.tolist())\n",
    "        sentence = df.loc[rand_index, 'question_1']\n",
    "        \n",
    "        #находим индекс выбранного предложения в общем пуле предлоежний и считаем косинусные расстояния до оставшихся\n",
    "        index_enc = df_q[df_q['text'] == sentence].index\n",
    "        df_enc['cos_dist'] = df_enc.apply(lambda x: cosine(x, df_enc.loc[index_enc, :]), axis=1)\n",
    "    \n",
    "        #определеяем ближайших соседей не считая самого предложения\n",
    "        index_similar = df_enc.sort_values('cos_dist').head(6).index.tolist()\n",
    "        check_sentence = df[(df['question_1'] == sentence)&(df['label']==1)]['question_2'].values[0]\n",
    "        if check_sentence in df_q.loc[index_similar[1:], 'text'].values:\n",
    "            c += 1\n",
    "        else:\n",
    "            continue\n",
    "    return c / n"
   ]
  },
  {
   "cell_type": "code",
   "execution_count": 21,
   "id": "76565f61-c8fe-47a9-b730-cf4cd4977936",
   "metadata": {},
   "outputs": [
    {
     "name": "stderr",
     "output_type": "stream",
     "text": [
      "100%|█████████████████████████████████████████████████████████████████████████████████████████████████████████████████████████████████████████████████████████████████████████████████████████████████████████████████████████████████████████| 100/100 [01:01<00:00,  1.62it/s]"
     ]
    },
    {
     "name": "stdout",
     "output_type": "stream",
     "text": [
      "Accuracy: 11%\n"
     ]
    },
    {
     "name": "stderr",
     "output_type": "stream",
     "text": [
      "\n"
     ]
    }
   ],
   "source": [
    "print(f'Accuracy: {recommendation_score(100):0.0%}')"
   ]
  },
  {
   "cell_type": "code",
   "execution_count": null,
   "id": "d9535f5a-e4dc-4dee-b891-d28e41dfed36",
   "metadata": {},
   "outputs": [],
   "source": []
  }
 ],
 "metadata": {
  "kernelspec": {
   "display_name": "Python 3.9 (pytorch)",
   "language": "python",
   "name": "pytorch"
  },
  "language_info": {
   "codemirror_mode": {
    "name": "ipython",
    "version": 3
   },
   "file_extension": ".py",
   "mimetype": "text/x-python",
   "name": "python",
   "nbconvert_exporter": "python",
   "pygments_lexer": "ipython3",
   "version": "3.9.12"
  }
 },
 "nbformat": 4,
 "nbformat_minor": 5
}
