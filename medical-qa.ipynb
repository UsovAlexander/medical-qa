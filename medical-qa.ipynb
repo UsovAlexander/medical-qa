{
 "cells": [
  {
   "cell_type": "code",
   "execution_count": 1,
   "id": "8dae63eb-88d3-4729-a281-2be2b61a5f9d",
   "metadata": {},
   "outputs": [
    {
     "name": "stderr",
     "output_type": "stream",
     "text": [
      "/Users/alexander/miniconda3/lib/python3.9/site-packages/tqdm/auto.py:21: TqdmWarning: IProgress not found. Please update jupyter and ipywidgets. See https://ipywidgets.readthedocs.io/en/stable/user_install.html\n",
      "  from .autonotebook import tqdm as notebook_tqdm\n"
     ]
    }
   ],
   "source": [
    "import pandas as pd\n",
    "import numpy as np\n",
    "import matplotlib.pyplot as plt\n",
    "import nltk\n",
    "from nltk.corpus import stopwords as nltk_stopwords\n",
    "from nltk.stem import WordNetLemmatizer\n",
    "from nltk.corpus import wordnet\n",
    "import re\n",
    "import spacy\n",
    "from datasets import load_dataset\n",
    "from sklearn.feature_extraction.text import TfidfVectorizer\n",
    "from scipy.spatial.distance import cosine\n",
    "from sklearn.metrics.pairwise import cosine_similarity\n",
    "\n",
    "from tqdm import tqdm\n",
    "import warnings\n",
    "warnings.filterwarnings('ignore')\n",
    "RANDOM_STATE = 42"
   ]
  },
  {
   "cell_type": "code",
   "execution_count": 29,
   "id": "9684f73b-8485-42a2-afe2-c5c599363a09",
   "metadata": {},
   "outputs": [],
   "source": [
    "dataset = load_dataset(\"medical_questions_pairs\")"
   ]
  },
  {
   "cell_type": "code",
   "execution_count": 3,
   "id": "b2117a1a-6b63-4744-b708-7b51ab35f840",
   "metadata": {},
   "outputs": [],
   "source": [
    "df = pd.DataFrame(dataset['train'])"
   ]
  },
  {
   "cell_type": "code",
   "execution_count": 5,
   "id": "8296c4d6-cf9e-4485-beb9-68115a092d6a",
   "metadata": {},
   "outputs": [],
   "source": [
    "df_q = pd.concat([df['question_1'], df['question_2']], axis=0)"
   ]
  },
  {
   "cell_type": "code",
   "execution_count": 6,
   "id": "b4f23513-6f4a-4afd-8fd6-f77cd53fe793",
   "metadata": {},
   "outputs": [],
   "source": [
    "df_q = df_q.reset_index(drop=True)"
   ]
  },
  {
   "cell_type": "code",
   "execution_count": 7,
   "id": "42aa57cc-95e6-4ec2-8706-5dda0ca39df5",
   "metadata": {},
   "outputs": [
    {
     "data": {
      "text/plain": [
       "0"
      ]
     },
     "execution_count": 7,
     "metadata": {},
     "output_type": "execute_result"
    }
   ],
   "source": [
    "df_q.isna().sum()"
   ]
  },
  {
   "cell_type": "code",
   "execution_count": 8,
   "id": "3cfeef6d-fec2-4de3-96c0-86253090940c",
   "metadata": {},
   "outputs": [
    {
     "data": {
      "text/plain": [
       "1529"
      ]
     },
     "execution_count": 8,
     "metadata": {},
     "output_type": "execute_result"
    }
   ],
   "source": [
    "df_q.duplicated().sum()"
   ]
  },
  {
   "cell_type": "code",
   "execution_count": 9,
   "id": "4dd4c480-be91-4b1e-b3e6-cac15019bece",
   "metadata": {},
   "outputs": [],
   "source": [
    "df_q = df_q.drop_duplicates().reset_index(drop=True)"
   ]
  },
  {
   "cell_type": "code",
   "execution_count": 10,
   "id": "5ef82e5e-834f-4a3f-ad1e-a03b7b540ab9",
   "metadata": {},
   "outputs": [],
   "source": [
    "df_q = pd.DataFrame(df_q, columns=['text'])"
   ]
  },
  {
   "cell_type": "code",
   "execution_count": 11,
   "id": "804a9c50-f501-408d-af9c-a7c9b426eb5a",
   "metadata": {},
   "outputs": [
    {
     "data": {
      "text/html": [
       "<div>\n",
       "<style scoped>\n",
       "    .dataframe tbody tr th:only-of-type {\n",
       "        vertical-align: middle;\n",
       "    }\n",
       "\n",
       "    .dataframe tbody tr th {\n",
       "        vertical-align: top;\n",
       "    }\n",
       "\n",
       "    .dataframe thead th {\n",
       "        text-align: right;\n",
       "    }\n",
       "</style>\n",
       "<table border=\"1\" class=\"dataframe\">\n",
       "  <thead>\n",
       "    <tr style=\"text-align: right;\">\n",
       "      <th></th>\n",
       "      <th>text</th>\n",
       "    </tr>\n",
       "  </thead>\n",
       "  <tbody>\n",
       "    <tr>\n",
       "      <th>0</th>\n",
       "      <td>After how many hour from drinking an antibioti...</td>\n",
       "    </tr>\n",
       "    <tr>\n",
       "      <th>1</th>\n",
       "      <td>Am I over weight (192.9) for my age (39)?</td>\n",
       "    </tr>\n",
       "    <tr>\n",
       "      <th>2</th>\n",
       "      <td>Aspirin allergy - is it worth getting a bracelet?</td>\n",
       "    </tr>\n",
       "    <tr>\n",
       "      <th>3</th>\n",
       "      <td>At a doctor's visit, I hit my head against a b...</td>\n",
       "    </tr>\n",
       "    <tr>\n",
       "      <th>4</th>\n",
       "      <td>Been on antibiotics 4 5wks top high tooth dent...</td>\n",
       "    </tr>\n",
       "    <tr>\n",
       "      <th>...</th>\n",
       "      <td>...</td>\n",
       "    </tr>\n",
       "    <tr>\n",
       "      <th>4562</th>\n",
       "      <td>My sperm count is 15 millions and is there a c...</td>\n",
       "    </tr>\n",
       "    <tr>\n",
       "      <th>4563</th>\n",
       "      <td>Hello doctor, can you please tell me some of t...</td>\n",
       "    </tr>\n",
       "    <tr>\n",
       "      <th>4564</th>\n",
       "      <td>Hello doctor, I am 26 year old male wth progre...</td>\n",
       "    </tr>\n",
       "    <tr>\n",
       "      <th>4565</th>\n",
       "      <td>I am 32 weeks pregnant and had severe headache...</td>\n",
       "    </tr>\n",
       "    <tr>\n",
       "      <th>4566</th>\n",
       "      <td>I have headache, leg weakness and 32 weeks pre...</td>\n",
       "    </tr>\n",
       "  </tbody>\n",
       "</table>\n",
       "<p>4567 rows × 1 columns</p>\n",
       "</div>"
      ],
      "text/plain": [
       "                                                   text\n",
       "0     After how many hour from drinking an antibioti...\n",
       "1             Am I over weight (192.9) for my age (39)?\n",
       "2     Aspirin allergy - is it worth getting a bracelet?\n",
       "3     At a doctor's visit, I hit my head against a b...\n",
       "4     Been on antibiotics 4 5wks top high tooth dent...\n",
       "...                                                 ...\n",
       "4562  My sperm count is 15 millions and is there a c...\n",
       "4563  Hello doctor, can you please tell me some of t...\n",
       "4564  Hello doctor, I am 26 year old male wth progre...\n",
       "4565  I am 32 weeks pregnant and had severe headache...\n",
       "4566  I have headache, leg weakness and 32 weeks pre...\n",
       "\n",
       "[4567 rows x 1 columns]"
      ]
     },
     "execution_count": 11,
     "metadata": {},
     "output_type": "execute_result"
    }
   ],
   "source": [
    "df_q"
   ]
  },
  {
   "cell_type": "code",
   "execution_count": 12,
   "id": "7de35121-4854-48fc-9d9e-ee5c2dc9bc78",
   "metadata": {},
   "outputs": [],
   "source": [
    "nlp = spacy.load('en_core_web_sm', disable=['parser', 'ner'])\n",
    "\n",
    "def lemmatize(text):\n",
    "    global nlp\n",
    "    text = (re.sub(r'[^a-z0-9]+', ' ', text.lower()))\n",
    "    doc = nlp(text)\n",
    "    return \" \".join([token.lemma_ for token in doc])"
   ]
  },
  {
   "cell_type": "code",
   "execution_count": 13,
   "id": "3ceb27f4-a36c-4467-8f8a-cb183e5ddf85",
   "metadata": {},
   "outputs": [
    {
     "name": "stderr",
     "output_type": "stream",
     "text": [
      "100%|████████████████████████████████████████████████████████████████████████████████████████████████████████████████████████████████████████████████████████████████████████████████████████████████████████████████████████████████████| 4567/4567 [00:10<00:00, 446.20it/s]"
     ]
    },
    {
     "name": "stdout",
     "output_type": "stream",
     "text": [
      "CPU times: user 10.2 s, sys: 53.1 ms, total: 10.2 s\n",
      "Wall time: 10.2 s\n"
     ]
    },
    {
     "name": "stderr",
     "output_type": "stream",
     "text": [
      "\n"
     ]
    }
   ],
   "source": [
    "%%time\n",
    "tqdm.pandas()\n",
    "df_q['lemma_s'] = df_q['text'].progress_apply(lemmatize)"
   ]
  },
  {
   "cell_type": "code",
   "execution_count": 14,
   "id": "582e4a6b-b647-453d-ad30-c6c2fd794c24",
   "metadata": {},
   "outputs": [
    {
     "data": {
      "text/html": [
       "<div>\n",
       "<style scoped>\n",
       "    .dataframe tbody tr th:only-of-type {\n",
       "        vertical-align: middle;\n",
       "    }\n",
       "\n",
       "    .dataframe tbody tr th {\n",
       "        vertical-align: top;\n",
       "    }\n",
       "\n",
       "    .dataframe thead th {\n",
       "        text-align: right;\n",
       "    }\n",
       "</style>\n",
       "<table border=\"1\" class=\"dataframe\">\n",
       "  <thead>\n",
       "    <tr style=\"text-align: right;\">\n",
       "      <th></th>\n",
       "      <th>text</th>\n",
       "      <th>lemma_s</th>\n",
       "    </tr>\n",
       "  </thead>\n",
       "  <tbody>\n",
       "    <tr>\n",
       "      <th>0</th>\n",
       "      <td>After how many hour from drinking an antibioti...</td>\n",
       "      <td>after how many hour from drink an antibiotic c...</td>\n",
       "    </tr>\n",
       "    <tr>\n",
       "      <th>1</th>\n",
       "      <td>Am I over weight (192.9) for my age (39)?</td>\n",
       "      <td>be I over weight 192 9 for my age 39</td>\n",
       "    </tr>\n",
       "    <tr>\n",
       "      <th>2</th>\n",
       "      <td>Aspirin allergy - is it worth getting a bracelet?</td>\n",
       "      <td>aspirin allergy be it worth get a bracelet</td>\n",
       "    </tr>\n",
       "    <tr>\n",
       "      <th>3</th>\n",
       "      <td>At a doctor's visit, I hit my head against a b...</td>\n",
       "      <td>at a doctor s visit I hit my head against a bo...</td>\n",
       "    </tr>\n",
       "    <tr>\n",
       "      <th>4</th>\n",
       "      <td>Been on antibiotics 4 5wks top high tooth dent...</td>\n",
       "      <td>be on antibiotic 4 5wks top high tooth dentist...</td>\n",
       "    </tr>\n",
       "    <tr>\n",
       "      <th>...</th>\n",
       "      <td>...</td>\n",
       "      <td>...</td>\n",
       "    </tr>\n",
       "    <tr>\n",
       "      <th>4562</th>\n",
       "      <td>My sperm count is 15 millions and is there a c...</td>\n",
       "      <td>my sperm count be 15 million and be there a ch...</td>\n",
       "    </tr>\n",
       "    <tr>\n",
       "      <th>4563</th>\n",
       "      <td>Hello doctor, can you please tell me some of t...</td>\n",
       "      <td>hello doctor can you please tell I some of the...</td>\n",
       "    </tr>\n",
       "    <tr>\n",
       "      <th>4564</th>\n",
       "      <td>Hello doctor, I am 26 year old male wth progre...</td>\n",
       "      <td>hello doctor I be 26 year old male wth progres...</td>\n",
       "    </tr>\n",
       "    <tr>\n",
       "      <th>4565</th>\n",
       "      <td>I am 32 weeks pregnant and had severe headache...</td>\n",
       "      <td>I be 32 week pregnant and have severe headache...</td>\n",
       "    </tr>\n",
       "    <tr>\n",
       "      <th>4566</th>\n",
       "      <td>I have headache, leg weakness and 32 weeks pre...</td>\n",
       "      <td>I have headache leg weakness and 32 week pregn...</td>\n",
       "    </tr>\n",
       "  </tbody>\n",
       "</table>\n",
       "<p>4567 rows × 2 columns</p>\n",
       "</div>"
      ],
      "text/plain": [
       "                                                   text  \\\n",
       "0     After how many hour from drinking an antibioti...   \n",
       "1             Am I over weight (192.9) for my age (39)?   \n",
       "2     Aspirin allergy - is it worth getting a bracelet?   \n",
       "3     At a doctor's visit, I hit my head against a b...   \n",
       "4     Been on antibiotics 4 5wks top high tooth dent...   \n",
       "...                                                 ...   \n",
       "4562  My sperm count is 15 millions and is there a c...   \n",
       "4563  Hello doctor, can you please tell me some of t...   \n",
       "4564  Hello doctor, I am 26 year old male wth progre...   \n",
       "4565  I am 32 weeks pregnant and had severe headache...   \n",
       "4566  I have headache, leg weakness and 32 weeks pre...   \n",
       "\n",
       "                                                lemma_s  \n",
       "0     after how many hour from drink an antibiotic c...  \n",
       "1                  be I over weight 192 9 for my age 39  \n",
       "2            aspirin allergy be it worth get a bracelet  \n",
       "3     at a doctor s visit I hit my head against a bo...  \n",
       "4     be on antibiotic 4 5wks top high tooth dentist...  \n",
       "...                                                 ...  \n",
       "4562  my sperm count be 15 million and be there a ch...  \n",
       "4563  hello doctor can you please tell I some of the...  \n",
       "4564  hello doctor I be 26 year old male wth progres...  \n",
       "4565  I be 32 week pregnant and have severe headache...  \n",
       "4566  I have headache leg weakness and 32 week pregn...  \n",
       "\n",
       "[4567 rows x 2 columns]"
      ]
     },
     "execution_count": 14,
     "metadata": {},
     "output_type": "execute_result"
    }
   ],
   "source": [
    "df_q"
   ]
  },
  {
   "cell_type": "code",
   "execution_count": 15,
   "id": "94e6dc3b-0dbe-4f46-a083-4352c3036ac2",
   "metadata": {},
   "outputs": [],
   "source": [
    "stopwords = list(nltk_stopwords.words('english'))"
   ]
  },
  {
   "cell_type": "code",
   "execution_count": 16,
   "id": "7f336af2-45ab-4c1a-b977-f200461e587e",
   "metadata": {},
   "outputs": [],
   "source": [
    "vectorizer = TfidfVectorizer(stop_words=stopwords)"
   ]
  },
  {
   "cell_type": "code",
   "execution_count": 17,
   "id": "4d23ae5f-4905-4103-8634-2c683fc0b641",
   "metadata": {},
   "outputs": [],
   "source": [
    "df_vec = vectorizer.fit_transform(df_q['lemma_s'])"
   ]
  },
  {
   "cell_type": "code",
   "execution_count": 18,
   "id": "cab1b00b-a3b5-4375-9657-01f076451f66",
   "metadata": {},
   "outputs": [
    {
     "data": {
      "text/plain": [
       "<4567x4948 sparse matrix of type '<class 'numpy.float64'>'\n",
       "\twith 42859 stored elements in Compressed Sparse Row format>"
      ]
     },
     "execution_count": 18,
     "metadata": {},
     "output_type": "execute_result"
    }
   ],
   "source": [
    "df_vec"
   ]
  },
  {
   "cell_type": "code",
   "execution_count": 25,
   "id": "4b749346-b224-4433-9ca7-d65a3e397809",
   "metadata": {},
   "outputs": [
    {
     "data": {
      "text/plain": [
       "\"At a doctor's visit, I hit my head against a box on the wall containing hazardous materials (used syringes, used needles...). Will I get infected?\""
      ]
     },
     "execution_count": 25,
     "metadata": {},
     "output_type": "execute_result"
    }
   ],
   "source": [
    "df_q.loc[3, 'text']"
   ]
  },
  {
   "cell_type": "code",
   "execution_count": 19,
   "id": "be06fe6d-4ba5-417a-81ad-405cb2d44937",
   "metadata": {},
   "outputs": [],
   "source": [
    "check_sentence = vectorizer.transform([df_q.loc[3, 'text']])"
   ]
  },
  {
   "cell_type": "code",
   "execution_count": 28,
   "id": "12675223-741b-4de8-9f3d-7bf8543686b6",
   "metadata": {},
   "outputs": [
    {
     "data": {
      "text/plain": [
       "<1x4948 sparse matrix of type '<class 'numpy.float64'>'\n",
       "\twith 9 stored elements in Compressed Sparse Row format>"
      ]
     },
     "execution_count": 28,
     "metadata": {},
     "output_type": "execute_result"
    }
   ],
   "source": [
    "check_sentence"
   ]
  },
  {
   "cell_type": "code",
   "execution_count": 20,
   "id": "12e044aa-1d91-475c-a43d-50a6c2bbac0f",
   "metadata": {},
   "outputs": [
    {
     "data": {
      "text/plain": [
       "<4567x4948 sparse matrix of type '<class 'numpy.float64'>'\n",
       "\twith 42859 stored elements in Compressed Sparse Row format>"
      ]
     },
     "execution_count": 20,
     "metadata": {},
     "output_type": "execute_result"
    }
   ],
   "source": [
    "df_vec"
   ]
  },
  {
   "cell_type": "code",
   "execution_count": 21,
   "id": "46c76f23-abf6-41d2-a981-78ca912e0b49",
   "metadata": {},
   "outputs": [],
   "source": [
    "df_q['dist'] = cosine_similarity(df_vec, check_sentence)"
   ]
  },
  {
   "cell_type": "code",
   "execution_count": 22,
   "id": "693e0611-8947-4765-a918-df093ffcf9ce",
   "metadata": {},
   "outputs": [
    {
     "data": {
      "text/html": [
       "<div>\n",
       "<style scoped>\n",
       "    .dataframe tbody tr th:only-of-type {\n",
       "        vertical-align: middle;\n",
       "    }\n",
       "\n",
       "    .dataframe tbody tr th {\n",
       "        vertical-align: top;\n",
       "    }\n",
       "\n",
       "    .dataframe thead th {\n",
       "        text-align: right;\n",
       "    }\n",
       "</style>\n",
       "<table border=\"1\" class=\"dataframe\">\n",
       "  <thead>\n",
       "    <tr style=\"text-align: right;\">\n",
       "      <th></th>\n",
       "      <th>text</th>\n",
       "      <th>lemma_s</th>\n",
       "      <th>dist</th>\n",
       "    </tr>\n",
       "  </thead>\n",
       "  <tbody>\n",
       "    <tr>\n",
       "      <th>0</th>\n",
       "      <td>After how many hour from drinking an antibioti...</td>\n",
       "      <td>after how many hour from drink an antibiotic c...</td>\n",
       "      <td>0.0</td>\n",
       "    </tr>\n",
       "    <tr>\n",
       "      <th>1</th>\n",
       "      <td>Am I over weight (192.9) for my age (39)?</td>\n",
       "      <td>be I over weight 192 9 for my age 39</td>\n",
       "      <td>0.0</td>\n",
       "    </tr>\n",
       "    <tr>\n",
       "      <th>5</th>\n",
       "      <td>Can Adderall (dextroamphetamine and racemic am...</td>\n",
       "      <td>can adderall dextroamphetamine and racemic amp...</td>\n",
       "      <td>0.0</td>\n",
       "    </tr>\n",
       "    <tr>\n",
       "      <th>6</th>\n",
       "      <td>Can coarctation of the aorta cause poor growth...</td>\n",
       "      <td>can coarctation of the aorta cause poor growth...</td>\n",
       "      <td>0.0</td>\n",
       "    </tr>\n",
       "    <tr>\n",
       "      <th>7</th>\n",
       "      <td>Can doxycycline treat an ear infection?</td>\n",
       "      <td>can doxycycline treat an ear infection</td>\n",
       "      <td>0.0</td>\n",
       "    </tr>\n",
       "    <tr>\n",
       "      <th>...</th>\n",
       "      <td>...</td>\n",
       "      <td>...</td>\n",
       "      <td>...</td>\n",
       "    </tr>\n",
       "    <tr>\n",
       "      <th>4555</th>\n",
       "      <td>Can sexual intercourse stimulate one's appetit...</td>\n",
       "      <td>can sexual intercourse stimulate one s appetit...</td>\n",
       "      <td>0.0</td>\n",
       "    </tr>\n",
       "    <tr>\n",
       "      <th>4556</th>\n",
       "      <td>What could be causing me to experience symptom...</td>\n",
       "      <td>what could be cause I to experience symptom li...</td>\n",
       "      <td>0.0</td>\n",
       "    </tr>\n",
       "    <tr>\n",
       "      <th>4557</th>\n",
       "      <td>Do you think being stressed for a year or so c...</td>\n",
       "      <td>do you think be stress for a year or so can ha...</td>\n",
       "      <td>0.0</td>\n",
       "    </tr>\n",
       "    <tr>\n",
       "      <th>4559</th>\n",
       "      <td>Is it normal for a 24 year old female to sweat...</td>\n",
       "      <td>be it normal for a 24 year old female to sweat...</td>\n",
       "      <td>0.0</td>\n",
       "    </tr>\n",
       "    <tr>\n",
       "      <th>4565</th>\n",
       "      <td>I am 32 weeks pregnant and had severe headache...</td>\n",
       "      <td>I be 32 week pregnant and have severe headache...</td>\n",
       "      <td>0.0</td>\n",
       "    </tr>\n",
       "  </tbody>\n",
       "</table>\n",
       "<p>3636 rows × 3 columns</p>\n",
       "</div>"
      ],
      "text/plain": [
       "                                                   text  \\\n",
       "0     After how many hour from drinking an antibioti...   \n",
       "1             Am I over weight (192.9) for my age (39)?   \n",
       "5     Can Adderall (dextroamphetamine and racemic am...   \n",
       "6     Can coarctation of the aorta cause poor growth...   \n",
       "7               Can doxycycline treat an ear infection?   \n",
       "...                                                 ...   \n",
       "4555  Can sexual intercourse stimulate one's appetit...   \n",
       "4556  What could be causing me to experience symptom...   \n",
       "4557  Do you think being stressed for a year or so c...   \n",
       "4559  Is it normal for a 24 year old female to sweat...   \n",
       "4565  I am 32 weeks pregnant and had severe headache...   \n",
       "\n",
       "                                                lemma_s  dist  \n",
       "0     after how many hour from drink an antibiotic c...   0.0  \n",
       "1                  be I over weight 192 9 for my age 39   0.0  \n",
       "5     can adderall dextroamphetamine and racemic amp...   0.0  \n",
       "6     can coarctation of the aorta cause poor growth...   0.0  \n",
       "7                can doxycycline treat an ear infection   0.0  \n",
       "...                                                 ...   ...  \n",
       "4555  can sexual intercourse stimulate one s appetit...   0.0  \n",
       "4556  what could be cause I to experience symptom li...   0.0  \n",
       "4557  do you think be stress for a year or so can ha...   0.0  \n",
       "4559  be it normal for a 24 year old female to sweat...   0.0  \n",
       "4565  I be 32 week pregnant and have severe headache...   0.0  \n",
       "\n",
       "[3636 rows x 3 columns]"
      ]
     },
     "execution_count": 22,
     "metadata": {},
     "output_type": "execute_result"
    }
   ],
   "source": [
    "df_q[df_q['dist'] == 0]"
   ]
  },
  {
   "cell_type": "code",
   "execution_count": 23,
   "id": "e322ccdd-3a4a-4099-b719-7e19d293aa7b",
   "metadata": {},
   "outputs": [
    {
     "data": {
      "text/plain": [
       "\"At a doctor's visit, I hit my head against a box on the wall containing hazardous materials (used syringes, used needles...). Will I get infected?\""
      ]
     },
     "execution_count": 23,
     "metadata": {},
     "output_type": "execute_result"
    }
   ],
   "source": [
    "df_q.loc[3, 'text']"
   ]
  },
  {
   "cell_type": "code",
   "execution_count": 24,
   "id": "13ea9ff5-2c88-41de-b8b8-c2e99a0ecd1c",
   "metadata": {},
   "outputs": [
    {
     "data": {
      "text/html": [
       "<div>\n",
       "<style scoped>\n",
       "    .dataframe tbody tr th:only-of-type {\n",
       "        vertical-align: middle;\n",
       "    }\n",
       "\n",
       "    .dataframe tbody tr th {\n",
       "        vertical-align: top;\n",
       "    }\n",
       "\n",
       "    .dataframe thead th {\n",
       "        text-align: right;\n",
       "    }\n",
       "</style>\n",
       "<table border=\"1\" class=\"dataframe\">\n",
       "  <thead>\n",
       "    <tr style=\"text-align: right;\">\n",
       "      <th></th>\n",
       "      <th>dr_id</th>\n",
       "      <th>question_1</th>\n",
       "      <th>question_2</th>\n",
       "      <th>label</th>\n",
       "    </tr>\n",
       "  </thead>\n",
       "  <tbody>\n",
       "    <tr>\n",
       "      <th>6</th>\n",
       "      <td>1</td>\n",
       "      <td>At a doctor's visit, I hit my head against a b...</td>\n",
       "      <td>Is it okay if I use the same syringe for my in...</td>\n",
       "      <td>0</td>\n",
       "    </tr>\n",
       "    <tr>\n",
       "      <th>7</th>\n",
       "      <td>1</td>\n",
       "      <td>At a doctor's visit, I hit my head against a b...</td>\n",
       "      <td>Today morning, I had an appointment with the d...</td>\n",
       "      <td>1</td>\n",
       "    </tr>\n",
       "  </tbody>\n",
       "</table>\n",
       "</div>"
      ],
      "text/plain": [
       "   dr_id                                         question_1  \\\n",
       "6      1  At a doctor's visit, I hit my head against a b...   \n",
       "7      1  At a doctor's visit, I hit my head against a b...   \n",
       "\n",
       "                                          question_2  label  \n",
       "6  Is it okay if I use the same syringe for my in...      0  \n",
       "7  Today morning, I had an appointment with the d...      1  "
      ]
     },
     "execution_count": 24,
     "metadata": {},
     "output_type": "execute_result"
    }
   ],
   "source": [
    "df[df.question_1 == df_q.loc[3, 'text']]"
   ]
  },
  {
   "cell_type": "code",
   "execution_count": null,
   "id": "d1abd2bf-77ec-4ea1-9155-2803064bfb34",
   "metadata": {},
   "outputs": [],
   "source": []
  }
 ],
 "metadata": {
  "kernelspec": {
   "display_name": "Python 3 (ipykernel)",
   "language": "python",
   "name": "python3"
  },
  "language_info": {
   "codemirror_mode": {
    "name": "ipython",
    "version": 3
   },
   "file_extension": ".py",
   "mimetype": "text/x-python",
   "name": "python",
   "nbconvert_exporter": "python",
   "pygments_lexer": "ipython3",
   "version": "3.9.18"
  }
 },
 "nbformat": 4,
 "nbformat_minor": 5
}
